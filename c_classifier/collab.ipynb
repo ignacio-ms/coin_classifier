{
 "cells": [
  {
   "cell_type": "code",
   "execution_count": null,
   "metadata": {
    "collapsed": true
   },
   "outputs": [],
   "source": [
    "from my_dataset import MyTfDataset\n",
    "from genetic import Genetic\n",
    "from cnn import CNN\n",
    "\n",
    "import numpy as np\n",
    "import tensorflow as tf\n",
    "\n",
    "import time\n",
    "\n",
    "\n",
    "tf.random.set_seed(12345)\n",
    "np.random.seed(12345)\n",
    "\n",
    "train = MyTfDataset()\n",
    "train.read_data(datset_path='data/train/', augmentation=True)\n",
    "val = train.validation_split()\n",
    "\n",
    "print(f'Train {train}')\n",
    "print(f'Validation {val}')\n",
    "\n",
    "pop_size = 20\n",
    "nlayers = 3\n",
    "max_nfilters = 100\n",
    "max_sfilters = 7\n",
    "epochs = 20\n",
    "num_generations = 50\n",
    "\n",
    "gen_cnn = Genetic(pop_size, nlayers, max_nfilters, max_sfilters)\n",
    "pop = gen_cnn.generate_population()\n",
    "\n",
    "start = time.time()\n",
    "for i in range(num_generations+1):\n",
    "    pop_acc, pop_acc_val = gen_cnn.fitness(pop, train.data, train.labels_oh, val.data, val.labels_oh, epochs)\n",
    "    print(f'Best Accuracy(Val) at the generation {i}: {gen_cnn.max_acc_val}')\n",
    "    parents = gen_cnn.select_parents(pop, 10, pop_acc_val.copy())\n",
    "    child = gen_cnn.crossover(parents)\n",
    "    child = gen_cnn.mutation(child, max_nfilters, max_sfilters)\n",
    "    pop = np.concatenate((parents, child), axis=0).astype('int')\n",
    "print(f'Genetic algorithm took {time.time() - start}[s]')\n",
    "print(f'Best architecture {gen_cnn.best_arch} - Train: {gen_cnn.max_acc} Val {gen_cnn.max_acc_val}')\n",
    "gen_cnn.smooth_curve(0.8, num_generations)\n",
    "\n",
    "model = CNN(gen_cnn.best_arch[:3], gen_cnn.best_arch[3:])\n",
    "model.compile()\n",
    "model.train(train.data, train.labels_oh, val.data, val.labels_oh, batch_size=32, epochs=20, save=True, verbose=True)\n",
    "\n",
    "pred = model.predict_per_class(val.data, val.labels, verbose=True)\n"
   ]
  }
 ],
 "metadata": {
  "kernelspec": {
   "display_name": "Python 3",
   "language": "python",
   "name": "python3"
  },
  "language_info": {
   "codemirror_mode": {
    "name": "ipython",
    "version": 2
   },
   "file_extension": ".py",
   "mimetype": "text/x-python",
   "name": "python",
   "nbconvert_exporter": "python",
   "pygments_lexer": "ipython2",
   "version": "2.7.6"
  }
 },
 "nbformat": 4,
 "nbformat_minor": 0
}